{
 "cells": [
  {
   "cell_type": "markdown",
   "id": "be94e6d6-4096-4d1a-aa58-5afd89f33bff",
   "metadata": {},
   "source": [
    "# Tokenizers, LLMs and heads"
   ]
  },
  {
   "cell_type": "code",
   "execution_count": null,
   "id": "4ef8ea85-d04d-4217-99a3-21c446bf2ffa",
   "metadata": {},
   "outputs": [],
   "source": [
    "from datasets import load_dataset, DatasetDict, Dataset\n",
    "\n",
    "from transformers import (\n",
    "    AutoTokenizer,\n",
    "    AutoConfig,\n",
    "    AutoModelForSequenceClassification,\n",
    "    DataCollatorWithPadding,\n",
    "    TrainingArguments,\n",
    "    Trainer, AutoModel, AutoModelForCausalLM)\n",
    "\n",
    "from peft import PeftModel, PeftConfig, get_peft_model, LoraConfig\n",
    "import evaluate\n",
    "import torch\n",
    "import numpy as np\n",
    "import pandas as pd"
   ]
  },
  {
   "cell_type": "markdown",
   "id": "48a5113b",
   "metadata": {},
   "source": [
    "## Tokenizers"
   ]
  },
  {
   "cell_type": "markdown",
   "id": "dd5841d7",
   "metadata": {},
   "source": [
    "Let's use the gpt2 model as an example"
   ]
  },
  {
   "cell_type": "code",
   "execution_count": null,
   "id": "c48b0585",
   "metadata": {},
   "outputs": [],
   "source": [
    "# Load the gpt2 tokenizer\n",
    "tokenizer = AutoTokenizer.from_pretrained(\"gpt2\")\n",
    "\n",
    "# Load the gpt2 model with the text generation head\n",
    "model_with_task_head = AutoModelForCausalLM.from_pretrained(\"gpt2\")"
   ]
  },
  {
   "cell_type": "markdown",
   "id": "2321385d",
   "metadata": {},
   "source": [
    "### Try out the loaded tokenizer"
   ]
  },
  {
   "cell_type": "code",
   "execution_count": null,
   "id": "413e90cb",
   "metadata": {},
   "outputs": [],
   "source": [
    "# Encoding can be done with encode method or via calling the tokenizer callable\n",
    "input_text = \"Hello, this is my test sentence.\"\n",
    "encoded_input = tokenizer.encode(input_text)\n",
    "\n",
    "print(encoded_input)\n",
    "print(tokenizer(input_text))\n",
    "\n",
    "# Decoding can be done with the decode method\n",
    "print(tokenizer.decode(encoded_input))"
   ]
  },
  {
   "cell_type": "markdown",
   "id": "9fbaddba",
   "metadata": {},
   "source": [
    "### Try out the loaded model"
   ]
  },
  {
   "cell_type": "code",
   "execution_count": null,
   "id": "2b0463f5",
   "metadata": {},
   "outputs": [],
   "source": [
    "input_text = \"Hello, this is my test sentence and I want to continue it with\"\n",
    "\n",
    "# Inference can be done by calling .generate method of the model\n",
    "model_output = model_with_task_head.generate(**tokenizer(input_text, return_tensors=\"pt\"), max_new_tokens=20)\n",
    "print(\"Model output: \", tokenizer.decode(model_output[0]))\n"
   ]
  },
  {
   "cell_type": "markdown",
   "id": "b916ac69",
   "metadata": {},
   "source": [
    "### TODO\n",
    "What is the gpt2 model predicting, when loaded with `AutoModelForCausalLM`?\n",
    "\n",
    "Test the gpt2 model a bit more. What do you think about the quality of its output? "
   ]
  },
  {
   "cell_type": "markdown",
   "id": "92f9dc25",
   "metadata": {},
   "source": [
    "### Let's see what the base model output is like"
   ]
  },
  {
   "cell_type": "code",
   "execution_count": null,
   "id": "e4675e4b",
   "metadata": {},
   "outputs": [],
   "source": [
    "# Load the gpt2 base model without task specific head\n",
    "base_model = AutoModel.from_pretrained(\"gpt2\")\n",
    "\n",
    "# Try calling the model. Note: We call the model directly with the input ids instead of the .generate method now.\n",
    "input_text = \"Hello, this is my test sentence and I want to continue it with\"\n",
    "base_model_output = base_model(**tokenizer(input_text, return_tensors=\"pt\"))\n",
    "\n",
    "base_model_output"
   ]
  },
  {
   "cell_type": "markdown",
   "id": "e969bfef",
   "metadata": {},
   "source": [
    "### TODO\n",
    "Explain to your pair the difference between the above `model_with_task_head` and `base_model`."
   ]
  },
  {
   "cell_type": "markdown",
   "id": "d761ebfe",
   "metadata": {},
   "source": [
    "### TODO exploration\n",
    "* Try out different tokenizer. Do you notice some differences? You can try for instance \"gpt2\", \"distilbert-base-uncased\" or \"facebook/galactica-1.3b\" and convert text to tokens and tokens back to text.\n",
    "* How do you find gpt2 based models that are fine-tuned to different tasks? Try some of those out."
   ]
  }
 ],
 "metadata": {
  "kernelspec": {
   "display_name": "Python 3 (ipykernel)",
   "language": "python",
   "name": "python3"
  },
  "language_info": {
   "codemirror_mode": {
    "name": "ipython",
    "version": 3
   },
   "file_extension": ".py",
   "mimetype": "text/x-python",
   "name": "python",
   "nbconvert_exporter": "python",
   "pygments_lexer": "ipython3",
   "version": "3.12.2"
  }
 },
 "nbformat": 4,
 "nbformat_minor": 5
}

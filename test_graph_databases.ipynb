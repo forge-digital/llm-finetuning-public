{
 "cells": [
  {
   "cell_type": "code",
   "execution_count": null,
   "metadata": {},
   "outputs": [],
   "source": [
    "import pandas as pd\n",
    "import neo4j\n",
    "from neo4j import GraphDatabase\n",
    "from datasets import load_dataset\n",
    "from sentence_transformers import SentenceTransformer\n",
    "import numpy as np\n",
    "from utils import query_db\n",
    "from utils import URI, AUTH"
   ]
  },
  {
   "cell_type": "markdown",
   "metadata": {},
   "source": [
    "## Fetch movie data from DB"
   ]
  },
  {
   "cell_type": "code",
   "execution_count": null,
   "metadata": {},
   "outputs": [],
   "source": [
    "movie_data = query_db(\"\"\"\n",
    "  MATCH (m:Movie) \n",
    "  RETURN m.id as id, m.info as info, m.title as title\n",
    "  \"\"\")\n",
    "\n",
    "print(movie_data[0])"
   ]
  },
  {
   "cell_type": "markdown",
   "metadata": {},
   "source": [
    "## Get transformer for creating embeddings"
   ]
  },
  {
   "cell_type": "code",
   "execution_count": null,
   "metadata": {},
   "outputs": [],
   "source": [
    "embedder = SentenceTransformer(\"msmarco-distilbert-base-v4\")\n"
   ]
  },
  {
   "cell_type": "code",
   "execution_count": null,
   "metadata": {},
   "outputs": [],
   "source": [
    "embedding_dimensions = 768"
   ]
  },
  {
   "cell_type": "markdown",
   "metadata": {},
   "source": [
    "### Ingest embedding data into the database"
   ]
  },
  {
   "cell_type": "code",
   "execution_count": null,
   "metadata": {},
   "outputs": [],
   "source": [
    "with GraphDatabase.driver(URI, auth=AUTH) as driver:\n",
    "    with driver.session(database=\"neo4j\") as session:\n",
    "        for m in movie_data:\n",
    "            id = m[\"id\"]\n",
    "            info = m[\"info\"] if \"info\" in m else \"\"\n",
    "            info = \"\" if info is None else info\n",
    "            embedding = embedder.encode(info).astype(np.float32).tolist()\n",
    "            set_embedding_query = \"\"\"\n",
    "            MATCH (m {id: '$id'})\n",
    "            SET m.embedding =  apoc.convert.fromJsonList('$embeddings')\n",
    "            \"\"\".replace(\"$id\", str(id)).replace(\"$embeddings\", str(embedding))\n",
    "            session.run(set_embedding_query)"
   ]
  },
  {
   "cell_type": "markdown",
   "metadata": {},
   "source": [
    "### TODO\n",
    "Check that the embeddings are now ingested in the database."
   ]
  },
  {
   "cell_type": "markdown",
   "metadata": {},
   "source": [
    "## Create the vector index"
   ]
  },
  {
   "cell_type": "code",
   "execution_count": null,
   "metadata": {},
   "outputs": [],
   "source": [
    "create_vector_index_query=\"\"\"\n",
    "CREATE VECTOR INDEX embedding_index\n",
    "FOR (m:Movie)\n",
    "ON (m.embedding)\n",
    "OPTIONS {indexConfig: {`vector.dimensions`: $embedding_dimensions, `vector.similarity_function`: 'cosine'}}\n",
    "\"\"\".replace(\"$embedding_dimensions\", str(embedding_dimensions))\n",
    "\n",
    "with GraphDatabase.driver(URI, auth=AUTH) as driver:\n",
    "    with driver.session(database=\"neo4j\") as session:\n",
    "\n",
    "        session.run(create_vector_index_query)"
   ]
  },
  {
   "cell_type": "markdown",
   "metadata": {},
   "source": [
    "### Show all vector indices"
   ]
  },
  {
   "cell_type": "code",
   "execution_count": null,
   "metadata": {},
   "outputs": [],
   "source": [
    "query_db('SHOW INDEXES WHERE type = \"VECTOR\"')"
   ]
  },
  {
   "cell_type": "markdown",
   "metadata": {},
   "source": [
    "Vector index seems ok."
   ]
  },
  {
   "cell_type": "markdown",
   "metadata": {},
   "source": [
    "### Create some queries to fetch movies via vector search"
   ]
  },
  {
   "cell_type": "code",
   "execution_count": null,
   "metadata": {},
   "outputs": [],
   "source": [
    "def get_similar_movies_query(movie_name: str):\n",
    "  return f\"\"\"\n",
    "  MATCH (m:Movie)\n",
    "  WHERE toLower(m.title) = '{movie_name.lower()}'\n",
    "\n",
    "  CALL db.index.vector.queryNodes('embedding_index', 5, m.embedding)\n",
    "  YIELD node AS similarMovie, score\n",
    "  RETURN similarMovie.title, similarMovie.genre, score\n",
    "  \"\"\"\n",
    "\n",
    "def get_similar_movies_with_same_actor_query(movie_name: str):\n",
    "    return f\"\"\"\n",
    "    MATCH (m:Movie)\n",
    "    WHERE toLower(m.title) = '{movie_name.lower()}'\n",
    "\n",
    "    MATCH (p: Person)-[:ACTED_IN]->(m: Movie)\n",
    "\n",
    "    CALL db.index.vector.queryNodes('embedding_index', 100, m.embedding)\n",
    "    YIELD node AS similarMovie, score\n",
    "    WHERE similarMovie <> m\n",
    "    AND (similarMovie)<-[:ACTED_IN]-(p)\n",
    "    RETURN similarMovie.title, score\n",
    "    \"\"\""
   ]
  },
  {
   "cell_type": "code",
   "execution_count": null,
   "metadata": {},
   "outputs": [],
   "source": [
    "query_db(get_similar_movies_query(\"American Sniper\"))"
   ]
  },
  {
   "cell_type": "code",
   "execution_count": null,
   "metadata": {},
   "outputs": [],
   "source": [
    "query_db(get_similar_movies_with_same_actor_query(\"American Sniper\"))"
   ]
  },
  {
   "cell_type": "markdown",
   "metadata": {},
   "source": [
    "### TODO\n",
    "Check that American Sniper and Burnt in fact have some actors in common."
   ]
  },
  {
   "cell_type": "markdown",
   "metadata": {},
   "source": [
    "### TODO\n",
    "\n",
    "Think how you could you use the viewer and rating data for producing recommendations for the viewers? Implement some queries for the recommendations."
   ]
  }
 ],
 "metadata": {
  "kernelspec": {
   "display_name": "venv",
   "language": "python",
   "name": "python3"
  },
  "language_info": {
   "codemirror_mode": {
    "name": "ipython",
    "version": 3
   },
   "file_extension": ".py",
   "mimetype": "text/x-python",
   "name": "python",
   "nbconvert_exporter": "python",
   "pygments_lexer": "ipython3",
   "version": "3.12.2"
  }
 },
 "nbformat": 4,
 "nbformat_minor": 2
}

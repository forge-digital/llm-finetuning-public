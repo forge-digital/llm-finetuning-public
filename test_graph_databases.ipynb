{
 "cells": [
  {
   "cell_type": "code",
   "execution_count": 7,
   "metadata": {},
   "outputs": [],
   "source": [
    "import pandas as pd\n",
    "import neo4j\n",
    "from neo4j import GraphDatabase\n",
    "from datasets import load_dataset\n",
    "from sentence_transformers import SentenceTransformer\n",
    "import numpy as np\n",
    "from utils import query_db\n",
    "from utils import URI, AUTH"
   ]
  },
  {
   "cell_type": "markdown",
   "metadata": {},
   "source": [
    "## Fetch movie data from DB"
   ]
  },
  {
   "cell_type": "code",
   "execution_count": 8,
   "metadata": {},
   "outputs": [
    {
     "name": "stdout",
     "output_type": "stream",
     "text": [
      "{'id': '3', 'info': 'This was Burgess Meredith\\'s last film. He died of complications of Alzheimer\\'s disease on September 9, 1997. He showed symptoms at the time of this movie\\'s filming, and had to be coached during each scene in which he appeared. Meredith\\'s acting talents are evident despite his failing mental faculties.,In the first movie Grandpa Gustafson says he\\'s 94 years old. In the second movie he says he just turned 95. So less than a year has passed but somehow Melanie\\'s daughter Allie aged 3 or 4 years.,Grandpa Gustafson: What the... what the hell is this?\\nJohn Gustafson: That\\'s lite beer.\\nGrandpa Gustafson: Gee, I weigh ninety goddamn pounds, and you bring me this sloppin\\' foam?\\nJohn Gustafson: Ariel\\'s got me on a diet because the doc said my cholestorol\\'s a little too high.\\nGrandpa Gustafson: Well let me tell you something now, Johnny. Last Thursday, I turned 95 years old. And I never exercised a day in my life. Every morning, I wake up, and I smoke a cigarette. And then I eat five strips of bacon. And for lunch, I eat a bacon sandwich. And for a midday snack?,Outtakes also show Walter Matthau and \\'Jack Lemmon\\' both forgetting their lines, including the names of their characters\\' respective love interests.,Featured in Siskel & Ebert: Dead Man Walking/Cutthroat Island/Sudden Death/Grumpier Old Men/Restoration/Waiting to Exhale (1995),(I\\'ll Be Glad When You\\'re Dead) You Rascal You\\nWritten by Spo-De-Odee\\nPerformed by Louis Armstrong and Louis Jordan\\nCourtesy of MCA Records,While \"Grumpy\" was enjoyable, I think \"Grumpier\" is the better overall movie. More attention is given to the supporting characters, the plot is slightly more complex, the lines are better, the jokes are better, and Lemmon and Matthau once again give excellent performances. Granted, this still isn\\'t as good as it could be, but I think it\\'s a noticeable step up from the original. I really don\\'t get all the negativity toward it... come on, people, it\\'s just a silly comedy. Lighten up.\\n\\nSpeaking of negativity, another reviewer, whom I won\\'t name here (oh all right, it\\'s John Ulmer), seems to think this movie is nothing more than a \"shouting match,\" and is concerned about the age difference between the Old Men and their lady friends. I disagree on both points. The dialogue doesn\\'t have as much shouting this time around, and Matthau\\'s girl is most certainly NOT \"fortysomething.\" Believe it or not, she was 61 at the time, and I must say it\\'s quite amazing how good she looks for a woman her age (Matthau was 75--a pretty big age difference, true, but I can\\'t imagine there\\'s a lot of men to choose from when you\\'re single and in your 60s!). I hate to chastise another reviewer like this, but I thought it was worth mentioning.\\n\\nSo in conclusion... it\\'s a good movie. Doesn\\'t deserve its bad rap.\\n\\n7/10 stars.,', 'title': 'Grumpier Old Men'}\n"
     ]
    }
   ],
   "source": [
    "movie_data = query_db(\"\"\"\n",
    "  MATCH (m:Movie) \n",
    "  RETURN m.id as id, m.info as info, m.title as title\n",
    "  \"\"\")\n",
    "\n",
    "print(movie_data[0])"
   ]
  },
  {
   "cell_type": "markdown",
   "metadata": {},
   "source": [
    "## Get transformer for creating embeddings"
   ]
  },
  {
   "cell_type": "code",
   "execution_count": 9,
   "metadata": {},
   "outputs": [],
   "source": [
    "embedder = SentenceTransformer(\"msmarco-distilbert-base-v4\")\n"
   ]
  },
  {
   "cell_type": "code",
   "execution_count": 10,
   "metadata": {},
   "outputs": [],
   "source": [
    "embedding_dimensions = 768"
   ]
  },
  {
   "cell_type": "markdown",
   "metadata": {},
   "source": [
    "### Ingest embedding data into the database"
   ]
  },
  {
   "cell_type": "code",
   "execution_count": 11,
   "metadata": {},
   "outputs": [],
   "source": [
    "with GraphDatabase.driver(URI, auth=AUTH) as driver:\n",
    "    with driver.session(database=\"neo4j\") as session:\n",
    "        for m in movie_data:\n",
    "            id = m[\"id\"]\n",
    "            info = m[\"info\"] if \"info\" in m else \"\"\n",
    "            info = \"\" if info is None else info\n",
    "            embedding = embedder.encode(info).astype(np.float32).tolist()\n",
    "            set_embedding_query = \"\"\"\n",
    "            MATCH (m {id: '$id'})\n",
    "            SET m.embedding =  apoc.convert.fromJsonList('$embeddings')\n",
    "            \"\"\".replace(\"$id\", str(id)).replace(\"$embeddings\", str(embedding))\n",
    "            session.run(set_embedding_query)"
   ]
  },
  {
   "cell_type": "markdown",
   "metadata": {},
   "source": [
    "### TODO\n",
    "Check that the embeddings are now ingested in the database."
   ]
  },
  {
   "cell_type": "markdown",
   "metadata": {},
   "source": [
    "## Create the vector index"
   ]
  },
  {
   "cell_type": "code",
   "execution_count": 12,
   "metadata": {},
   "outputs": [],
   "source": [
    "create_vector_index_query=\"\"\"\n",
    "CREATE VECTOR INDEX embedding_index\n",
    "FOR (m:Movie)\n",
    "ON (m.embedding)\n",
    "OPTIONS {indexConfig: {`vector.dimensions`: $embedding_dimensions, `vector.similarity_function`: 'cosine'}}\n",
    "\"\"\".replace(\"$embedding_dimensions\", str(embedding_dimensions))\n",
    "\n",
    "with GraphDatabase.driver(URI, auth=AUTH) as driver:\n",
    "    with driver.session(database=\"neo4j\") as session:\n",
    "\n",
    "        session.run(create_vector_index_query)"
   ]
  },
  {
   "cell_type": "markdown",
   "metadata": {},
   "source": [
    "### Show all vector indices"
   ]
  },
  {
   "cell_type": "code",
   "execution_count": 13,
   "metadata": {},
   "outputs": [
    {
     "data": {
      "text/plain": [
       "[{'id': 11,\n",
       "  'name': 'embedding_index',\n",
       "  'state': 'POPULATING',\n",
       "  'populationPercent': 0.0,\n",
       "  'type': 'VECTOR',\n",
       "  'entityType': 'NODE',\n",
       "  'labelsOrTypes': ['Movie'],\n",
       "  'properties': ['embedding'],\n",
       "  'indexProvider': 'vector-2.0',\n",
       "  'owningConstraint': None,\n",
       "  'lastRead': None,\n",
       "  'readCount': None}]"
      ]
     },
     "execution_count": 13,
     "metadata": {},
     "output_type": "execute_result"
    }
   ],
   "source": [
    "query_db('SHOW INDEXES WHERE type = \"VECTOR\"')"
   ]
  },
  {
   "cell_type": "markdown",
   "metadata": {},
   "source": [
    "Vector index seems ok."
   ]
  },
  {
   "cell_type": "markdown",
   "metadata": {},
   "source": [
    "### Create some queries to fetch movies via vector search"
   ]
  },
  {
   "cell_type": "code",
   "execution_count": 14,
   "metadata": {},
   "outputs": [],
   "source": [
    "def get_similar_movies_query(movie_name: str):\n",
    "  return f\"\"\"\n",
    "  MATCH (m:Movie)\n",
    "  WHERE toLower(m.title) = '{movie_name.lower()}'\n",
    "\n",
    "  CALL db.index.vector.queryNodes('embedding_index', 5, m.embedding)\n",
    "  YIELD node AS similarMovie, score\n",
    "  RETURN similarMovie.title, similarMovie.genre, score\n",
    "  \"\"\"\n",
    "\n",
    "def get_similar_movies_with_same_actor_query(movie_name: str):\n",
    "    return f\"\"\"\n",
    "    MATCH (m:Movie)\n",
    "    WHERE toLower(m.title) = '{movie_name.lower()}'\n",
    "\n",
    "    MATCH (p: Person)-[:ACTED_IN]->(m: Movie)\n",
    "\n",
    "    CALL db.index.vector.queryNodes('embedding_index', 100, m.embedding)\n",
    "    YIELD node AS similarMovie, score\n",
    "    WHERE similarMovie <> m\n",
    "    AND (similarMovie)<-[:ACTED_IN]-(p)\n",
    "    RETURN similarMovie.title, score\n",
    "    \"\"\""
   ]
  },
  {
   "cell_type": "code",
   "execution_count": 15,
   "metadata": {},
   "outputs": [
    {
     "data": {
      "text/plain": [
       "[{'similarMovie.title': 'American Sniper',\n",
       "  'similarMovie.genre': None,\n",
       "  'score': 0.9999999403953552},\n",
       " {'similarMovie.title': 'Burlesque',\n",
       "  'similarMovie.genre': None,\n",
       "  'score': 0.6912174224853516},\n",
       " {'similarMovie.title': 'Against the Ropes',\n",
       "  'similarMovie.genre': None,\n",
       "  'score': 0.6825745105743408},\n",
       " {'similarMovie.title': 'Dance Flick',\n",
       "  'similarMovie.genre': None,\n",
       "  'score': 0.6817898750305176},\n",
       " {'similarMovie.title': 'Next Friday',\n",
       "  'similarMovie.genre': None,\n",
       "  'score': 0.6667101979255676}]"
      ]
     },
     "execution_count": 15,
     "metadata": {},
     "output_type": "execute_result"
    }
   ],
   "source": [
    "query_db(get_similar_movies_query(\"American Sniper\"))"
   ]
  },
  {
   "cell_type": "code",
   "execution_count": 16,
   "metadata": {},
   "outputs": [
    {
     "data": {
      "text/plain": [
       "[{'similarMovie.title': 'Burnt', 'score': 0.6471226215362549}]"
      ]
     },
     "execution_count": 16,
     "metadata": {},
     "output_type": "execute_result"
    }
   ],
   "source": [
    "query_db(get_similar_movies_with_same_actor_query(\"American Sniper\"))"
   ]
  },
  {
   "cell_type": "markdown",
   "metadata": {},
   "source": [
    "### TODO\n",
    "Check that American Sniper and Burnt in fact have some actors in common."
   ]
  },
  {
   "cell_type": "code",
   "execution_count": 20,
   "metadata": {},
   "outputs": [
    {
     "data": {
      "text/plain": [
       "[{'p': {'name': 'Bradley Cooper'}}]"
      ]
     },
     "execution_count": 20,
     "metadata": {},
     "output_type": "execute_result"
    }
   ],
   "source": [
    "query_db(\"\"\"\n",
    "  MATCH (m1:Movie {title: 'American Sniper'}) <- [:ACTED_IN] - (p:Person) - [:ACTED_IN] -> (m2:Movie {title: 'Burnt'})\n",
    "  RETURN p\"\"\")"
   ]
  },
  {
   "cell_type": "markdown",
   "metadata": {},
   "source": [
    "### TODO\n",
    "\n",
    "Think how you could you use the viewer and rating data for producing recommendations for the viewers? Implement some queries for the recommendations."
   ]
  },
  {
   "cell_type": "code",
   "execution_count": 30,
   "metadata": {},
   "outputs": [
    {
     "data": {
      "text/plain": [
       "[{'m.title': 'Conspiracy Theory',\n",
       "  'p.name': 'user_524',\n",
       "  'r.rating': 4.8965140711502695},\n",
       " {'m.title': 'Four Rooms',\n",
       "  'p.name': 'user_524',\n",
       "  'r.rating': 9.095388370857327},\n",
       " {'m.title': 'Dance Flick',\n",
       "  'p.name': 'user_524',\n",
       "  'r.rating': 2.3014017317864277}]"
      ]
     },
     "execution_count": 30,
     "metadata": {},
     "output_type": "execute_result"
    }
   ],
   "source": [
    "# user_977 has rated the following movies\n",
    "query_db(\"\"\"\n",
    "MATCH (m:Movie ) <- [r:RATED] - (p:Person {name: \"user_524\"})\n",
    "RETURN m.title, p.name, r.rating\n",
    "\"\"\")"
   ]
  },
  {
   "cell_type": "markdown",
   "metadata": {},
   "source": [
    "### Simplistic collaborative filtering example:"
   ]
  },
  {
   "cell_type": "code",
   "execution_count": 31,
   "metadata": {},
   "outputs": [
    {
     "data": {
      "text/plain": [
       "[{'m.title': 'Four Rooms',\n",
       "  'p.name': 'user_206',\n",
       "  'r.rating': 4.450282899298179},\n",
       " {'m.title': 'Four Rooms',\n",
       "  'p.name': 'user_524',\n",
       "  'r.rating': 9.095388370857327},\n",
       " {'m.title': 'Four Rooms',\n",
       "  'p.name': 'user_998',\n",
       "  'r.rating': 9.423343494873555}]"
      ]
     },
     "execution_count": 31,
     "metadata": {},
     "output_type": "execute_result"
    }
   ],
   "source": [
    "# Find users that also liked movie Four Rooms\n",
    "query_db(\"\"\"\n",
    "MATCH (m:Movie {title: 'Four Rooms'}) <- [r:RATED] - (p:Person)\n",
    "RETURN m.title, p.name, r.rating\n",
    "\"\"\")"
   ]
  },
  {
   "cell_type": "code",
   "execution_count": 32,
   "metadata": {},
   "outputs": [
    {
     "data": {
      "text/plain": [
       "[{'m.title': 'Blind Date',\n",
       "  'p.name': 'user_998',\n",
       "  'r.rating': 2.1697300325945443},\n",
       " {'m.title': 'Half Past Dead',\n",
       "  'p.name': 'user_998',\n",
       "  'r.rating': 1.1323987725701523},\n",
       " {'m.title': 'Four Rooms',\n",
       "  'p.name': 'user_998',\n",
       "  'r.rating': 9.423343494873555}]"
      ]
     },
     "execution_count": 32,
     "metadata": {},
     "output_type": "execute_result"
    }
   ],
   "source": [
    "# Movies that user_998 liked\n",
    "query_db(\"\"\"\n",
    "MATCH (m:Movie) <- [r:RATED] - (p:Person {name: \"user_998\"})\n",
    "RETURN m.title, p.name, r.rating\n",
    "\"\"\")"
   ]
  },
  {
   "cell_type": "markdown",
   "metadata": {},
   "source": [
    "### Let's put it all together"
   ]
  },
  {
   "cell_type": "code",
   "execution_count": 38,
   "metadata": {},
   "outputs": [
    {
     "data": {
      "text/plain": [
       "[{'movieRecommended.title': 'Blind Date',\n",
       "  'p2.name': 'user_206',\n",
       "  'r3.rating': 8.486462831327273},\n",
       " {'movieRecommended.title': 'American Heart',\n",
       "  'p2.name': 'user_206',\n",
       "  'r3.rating': 9.234823959143533}]"
      ]
     },
     "execution_count": 38,
     "metadata": {},
     "output_type": "execute_result"
    }
   ],
   "source": [
    "# user_977 has rated the following movies\n",
    "query_db(\"\"\"\n",
    "MATCH (movieThatUserLiked:Movie ) <- [r1:RATED] - (p1:Person {name: \"user_524\"})\n",
    "WHERE r1.rating > 8\n",
    "\n",
    "MATCH (movieThatUserLiked) <- [r2:RATED] - (p2:Person)\n",
    "WHERE p1 <> p2\n",
    "         \n",
    "MATCH (movieRecommended:Movie) <- [r3:RATED] - (p2)\n",
    "WHERE r3.rating > 8\n",
    "AND NOT (movieRecommended)<-[:RATED]-(p1)\n",
    "\n",
    "RETURN movieRecommended.title, p2.name, r3.rating\n",
    "\"\"\")\n"
   ]
  }
 ],
 "metadata": {
  "kernelspec": {
   "display_name": "venv",
   "language": "python",
   "name": "python3"
  },
  "language_info": {
   "codemirror_mode": {
    "name": "ipython",
    "version": 3
   },
   "file_extension": ".py",
   "mimetype": "text/x-python",
   "name": "python",
   "nbconvert_exporter": "python",
   "pygments_lexer": "ipython3",
   "version": "3.12.2"
  }
 },
 "nbformat": 4,
 "nbformat_minor": 2
}

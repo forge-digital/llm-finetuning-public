{
 "cells": [
  {
   "cell_type": "code",
   "execution_count": null,
   "metadata": {},
   "outputs": [],
   "source": [
    "from utils import create_movie_graph_db, query_db\n",
    "from neo4j import GraphDatabase"
   ]
  },
  {
   "cell_type": "markdown",
   "metadata": {},
   "source": [
    "### Generate a simple movie, actor, director graph database\n",
    "Before running this notebook, do the following:\n",
    "* Run `docker-compose up &` to deploy your local neo4j database.\n",
    "* Run `python create_movie_graph_db.py` to ingest data into the db."
   ]
  },
  {
   "cell_type": "markdown",
   "metadata": {},
   "source": [
    "### Test Cypher queries"
   ]
  },
  {
   "cell_type": "code",
   "execution_count": null,
   "metadata": {},
   "outputs": [],
   "source": [
    "# Match all nodes\n",
    "res = query_db(\"\"\"\n",
    "  MATCH (n) \n",
    "  RETURN count(n) AS numberOfNodes\n",
    "  \"\"\")\n",
    "print(res)"
   ]
  },
  {
   "cell_type": "code",
   "execution_count": null,
   "metadata": {},
   "outputs": [],
   "source": [
    "# Match only movie nodes\n",
    "res = query_db(\"\"\"\n",
    "  MATCH (m:Movie) \n",
    "  RETURN count(m) AS numberOfMovies\n",
    "  \"\"\")\n",
    "print(res)"
   ]
  },
  {
   "cell_type": "code",
   "execution_count": null,
   "metadata": {},
   "outputs": [],
   "source": [
    "# Fetch one movie node\n",
    "res = query_db(\"\"\"\n",
    "  MATCH (m: Movie)\n",
    "  RETURN m \n",
    "  LIMIT 1\n",
    "  \"\"\")\n",
    "print(res)"
   ]
  },
  {
   "cell_type": "code",
   "execution_count": null,
   "metadata": {},
   "outputs": [],
   "source": [
    "# Match all relationships\n",
    "res = query_db(\"\"\"\n",
    "  MATCH ()<-[r]-()\n",
    "  RETURN count(r) AS numberOfRelationships\n",
    "  \"\"\")\n",
    "print(res)"
   ]
  },
  {
   "cell_type": "code",
   "execution_count": null,
   "metadata": {},
   "outputs": [],
   "source": [
    "# Get all relationship types\n",
    "res = query_db(\"\"\"\n",
    "  MATCH ()<-[r]-()\n",
    "  RETURN DISTINCT TYPE(r) as relationshipType\n",
    "  \"\"\")\n",
    "print(res)"
   ]
  },
  {
   "cell_type": "code",
   "execution_count": null,
   "metadata": {},
   "outputs": [],
   "source": [
    "# Match only ACTED_IN relationships\n",
    "res = query_db(\"\"\"\n",
    "  MATCH ()<-[a:ACTED_IN]-()\n",
    "  RETURN count(a) AS numberOfActedInRelationships\n",
    "  \"\"\")\n",
    "print(res)"
   ]
  },
  {
   "cell_type": "code",
   "execution_count": null,
   "metadata": {},
   "outputs": [],
   "source": [
    "# Match only movies with Pierce Brosnan acting in them\n",
    "res = query_db(\"\"\"\n",
    "  MATCH (m)<-[a:ACTED_IN]-(p:Person {name: \"Pierce Brosnan\"})\n",
    "  RETURN m.title as brosnanMovie\n",
    "  \"\"\")\n",
    "print(res)"
   ]
  },
  {
   "cell_type": "code",
   "execution_count": null,
   "metadata": {},
   "outputs": [],
   "source": [
    "# Match only movies with Pierce Brosnan acting in them\n",
    "res = query_db(\"\"\"\n",
    "  MATCH (d:Person)-[:DIRECTED]->(m)<-[a:ACTED_IN]-(p:Person {name: \"Pierce Brosnan\"})\n",
    "  RETURN d.name as brosnanMovieDirector\n",
    "  \"\"\")\n",
    "print(res)"
   ]
  },
  {
   "cell_type": "code",
   "execution_count": null,
   "metadata": {},
   "outputs": [],
   "source": [
    "# Fetch movies that have some actor in common with GoldenEye\n",
    "res = query_db(\"\"\"\n",
    "    MATCH (m:Movie)<-[:ACTED_IN]-(p:Person)-[:ACTED_IN]->(goldenEye:Movie {title: 'GoldenEye'})\n",
    "    RETURN m.title as goldenEyeActorMovie\n",
    "    \"\"\")\n",
    "print(res)"
   ]
  },
  {
   "cell_type": "markdown",
   "metadata": {},
   "source": [
    "### TODO\n",
    "\n",
    "* Create and run a query to fetch the actors in movie GoldenEye.\n",
    "* Create and run a query to fetch all the movies that have rating > 8.5.\n",
    "* Advanced: Create and run a query to fetch all the actors that have acted in movies that have rating > 8.5. Hint: You can \"chain\" MATCH statements"
   ]
  }
 ],
 "metadata": {
  "kernelspec": {
   "display_name": "venv",
   "language": "python",
   "name": "python3"
  },
  "language_info": {
   "codemirror_mode": {
    "name": "ipython",
    "version": 3
   },
   "file_extension": ".py",
   "mimetype": "text/x-python",
   "name": "python",
   "nbconvert_exporter": "python",
   "pygments_lexer": "ipython3",
   "version": "3.12.2"
  }
 },
 "nbformat": 4,
 "nbformat_minor": 2
}

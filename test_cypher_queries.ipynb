{
 "cells": [
  {
   "cell_type": "code",
   "execution_count": 1,
   "metadata": {},
   "outputs": [
    {
     "name": "stderr",
     "output_type": "stream",
     "text": [
      "/Users/aappopulkkinen/repos/llm-finetuning-public/utils.py:19: SyntaxWarning: \"is\" with 'str' literal. Did you mean \"==\"?\n",
      "  labels.append(0 if label_dir is \"neg\" else 1)\n"
     ]
    }
   ],
   "source": [
    "from utils import create_movie_graph_db, query_db\n",
    "from neo4j import GraphDatabase"
   ]
  },
  {
   "cell_type": "markdown",
   "metadata": {},
   "source": [
    "### Generate a simple movie, actor, director graph database"
   ]
  },
  {
   "cell_type": "code",
   "execution_count": 2,
   "metadata": {},
   "outputs": [],
   "source": [
    "create_movie_graph_db()"
   ]
  },
  {
   "cell_type": "markdown",
   "metadata": {},
   "source": [
    "### Test Cypher queries"
   ]
  },
  {
   "cell_type": "code",
   "execution_count": 3,
   "metadata": {},
   "outputs": [
    {
     "name": "stdout",
     "output_type": "stream",
     "text": [
      "[{'numberOfNodes': 27770}]\n"
     ]
    }
   ],
   "source": [
    "# Match all nodes\n",
    "res = query_db(\"\"\"\n",
    "  MATCH (n) \n",
    "  RETURN count(n) AS numberOfNodes\n",
    "  \"\"\")\n",
    "print(res)"
   ]
  },
  {
   "cell_type": "code",
   "execution_count": 4,
   "metadata": {},
   "outputs": [
    {
     "name": "stdout",
     "output_type": "stream",
     "text": [
      "[{'numberOfMovies': 8964}]\n"
     ]
    }
   ],
   "source": [
    "# Match only movie nodes\n",
    "res = query_db(\"\"\"\n",
    "  MATCH (m:Movie) \n",
    "  RETURN count(m) AS numberOfMovies\n",
    "  \"\"\")\n",
    "print(res)"
   ]
  },
  {
   "cell_type": "code",
   "execution_count": 5,
   "metadata": {},
   "outputs": [
    {
     "name": "stdout",
     "output_type": "stream",
     "text": [
      "[{'numberOfRelationships': 65326}]\n"
     ]
    }
   ],
   "source": [
    "# Match all relationships\n",
    "res = query_db(\"\"\"\n",
    "  MATCH ()<-[r]-()\n",
    "  RETURN count(r) AS numberOfRelationships\n",
    "  \"\"\")\n",
    "print(res)"
   ]
  },
  {
   "cell_type": "code",
   "execution_count": 6,
   "metadata": {},
   "outputs": [
    {
     "name": "stdout",
     "output_type": "stream",
     "text": [
      "[{'relationshipType': 'DIRECTED'}, {'relationshipType': 'ACTED_IN'}, {'relationshipType': 'IN_GENRE'}]\n"
     ]
    }
   ],
   "source": [
    "# Get all relationship types\n",
    "res = query_db(\"\"\"\n",
    "  MATCH ()<-[r]-()\n",
    "  RETURN DISTINCT TYPE(r) as relationshipType\n",
    "  \"\"\")\n",
    "print(res)"
   ]
  },
  {
   "cell_type": "code",
   "execution_count": 7,
   "metadata": {},
   "outputs": [
    {
     "name": "stdout",
     "output_type": "stream",
     "text": [
      "[{'numberOfActedInRelationships': 35494}]\n"
     ]
    }
   ],
   "source": [
    "# Match only ACTED_IN relationships\n",
    "res = query_db(\"\"\"\n",
    "  MATCH ()<-[a:ACTED_IN]-()\n",
    "  RETURN count(a) AS numberOfActedInRelationships\n",
    "  \"\"\")\n",
    "print(res)"
   ]
  },
  {
   "cell_type": "code",
   "execution_count": 8,
   "metadata": {},
   "outputs": [
    {
     "name": "stdout",
     "output_type": "stream",
     "text": [
      "[{'brosnanMovie': 'How to Make Love Like an Englishman'}, {'brosnanMovie': 'Salvation Boulevard'}, {'brosnanMovie': \"I Don't Know How She Does It\"}, {'brosnanMovie': 'Ghost Writer, The'}, {'brosnanMovie': 'Oceans (Océans)'}, {'brosnanMovie': 'Mamma Mia!'}, {'brosnanMovie': 'Butterfly on a Wheel (Shattered)'}, {'brosnanMovie': 'Matador, The'}, {'brosnanMovie': 'Laws of Attraction'}, {'brosnanMovie': 'After the Sunset'}, {'brosnanMovie': 'Nomads'}, {'brosnanMovie': 'Die Another Day'}, {'brosnanMovie': 'Evelyn'}, {'brosnanMovie': 'Tailor of Panama, The'}, {'brosnanMovie': 'World Is Not Enough, The'}, {'brosnanMovie': 'Thomas Crown Affair, The'}, {'brosnanMovie': 'Mars Attacks!'}, {'brosnanMovie': 'Tomorrow Never Dies'}, {'brosnanMovie': \"Dante's Peak\"}, {'brosnanMovie': 'GoldenEye'}, {'brosnanMovie': 'Lawnmower Man, The'}, {'brosnanMovie': 'Mrs. Doubtfire'}]\n"
     ]
    }
   ],
   "source": [
    "# Match only movies with Pierce Brosnan acting in them\n",
    "res = query_db(\"\"\"\n",
    "  MATCH (m)<-[a:ACTED_IN]-(p:Person {name: \"Pierce Brosnan\"})\n",
    "  RETURN m.title as brosnanMovie\n",
    "  \"\"\")\n",
    "print(res)"
   ]
  },
  {
   "cell_type": "code",
   "execution_count": 9,
   "metadata": {},
   "outputs": [
    {
     "name": "stdout",
     "output_type": "stream",
     "text": [
      "[{'brosnanMovieDirector': 'Tom Vaughan'}, {'brosnanMovieDirector': 'George Ratliff'}, {'brosnanMovieDirector': 'Douglas McGrath'}, {'brosnanMovieDirector': 'Roman Polanski'}, {'brosnanMovieDirector': 'Jacques Cluzaud'}, {'brosnanMovieDirector': 'Jacques Perrin'}, {'brosnanMovieDirector': 'Phyllida Lloyd'}, {'brosnanMovieDirector': 'Mike Barker'}, {'brosnanMovieDirector': 'Richard Shepard'}, {'brosnanMovieDirector': 'Peter Howitt'}, {'brosnanMovieDirector': 'Brett Ratner'}, {'brosnanMovieDirector': 'John McTiernan'}, {'brosnanMovieDirector': 'Lee Tamahori'}, {'brosnanMovieDirector': 'Bruce Beresford'}, {'brosnanMovieDirector': 'John Boorman'}, {'brosnanMovieDirector': 'Michael Apted'}, {'brosnanMovieDirector': 'John McTiernan'}, {'brosnanMovieDirector': 'Tim Burton'}, {'brosnanMovieDirector': 'Roger Spottiswoode'}, {'brosnanMovieDirector': 'Roger Donaldson'}, {'brosnanMovieDirector': 'Martin Campbell'}, {'brosnanMovieDirector': 'Brett Leonard'}, {'brosnanMovieDirector': 'Chris Columbus'}]\n"
     ]
    }
   ],
   "source": [
    "# Match only movies with Pierce Brosnan acting in them\n",
    "res = query_db(\"\"\"\n",
    "  MATCH (d:Person)-[:DIRECTED]->(m)<-[a:ACTED_IN]-(p:Person {name: \"Pierce Brosnan\"})\n",
    "  RETURN d.name as brosnanMovieDirector\n",
    "  \"\"\")\n",
    "print(res)"
   ]
  },
  {
   "cell_type": "code",
   "execution_count": 10,
   "metadata": {},
   "outputs": [
    {
     "name": "stdout",
     "output_type": "stream",
     "text": [
      "[{'goldenEyeActorMovie': 'How to Make Love Like an Englishman'}, {'goldenEyeActorMovie': 'Salvation Boulevard'}, {'goldenEyeActorMovie': \"I Don't Know How She Does It\"}, {'goldenEyeActorMovie': 'Ghost Writer, The'}, {'goldenEyeActorMovie': 'Oceans (Océans)'}, {'goldenEyeActorMovie': 'Mamma Mia!'}, {'goldenEyeActorMovie': 'Butterfly on a Wheel (Shattered)'}, {'goldenEyeActorMovie': 'Matador, The'}, {'goldenEyeActorMovie': 'Laws of Attraction'}, {'goldenEyeActorMovie': 'After the Sunset'}, {'goldenEyeActorMovie': 'Nomads'}, {'goldenEyeActorMovie': 'Die Another Day'}, {'goldenEyeActorMovie': 'Evelyn'}, {'goldenEyeActorMovie': 'Tailor of Panama, The'}, {'goldenEyeActorMovie': 'World Is Not Enough, The'}, {'goldenEyeActorMovie': 'Thomas Crown Affair, The'}, {'goldenEyeActorMovie': 'Mars Attacks!'}, {'goldenEyeActorMovie': 'Tomorrow Never Dies'}, {'goldenEyeActorMovie': \"Dante's Peak\"}, {'goldenEyeActorMovie': 'Lawnmower Man, The'}, {'goldenEyeActorMovie': 'Mrs. Doubtfire'}, {'goldenEyeActorMovie': 'Taken 2'}, {'goldenEyeActorMovie': 'Taken 3'}, {'goldenEyeActorMovie': 'Hansel & Gretel: Witch Hunters'}, {'goldenEyeActorMovie': 'Wackness, The'}, {'goldenEyeActorMovie': 'Hide and Seek'}, {'goldenEyeActorMovie': 'I Spy'}, {'goldenEyeActorMovie': 'Made'}, {'goldenEyeActorMovie': 'X-Men'}, {'goldenEyeActorMovie': 'Love & Sex'}, {'goldenEyeActorMovie': 'House on Haunted Hill'}, {'goldenEyeActorMovie': 'Deep Rising'}, {'goldenEyeActorMovie': 'City of Industry'}, {'goldenEyeActorMovie': 'Wicked Blood'}, {'goldenEyeActorMovie': 'Jupiter Ascending'}, {'goldenEyeActorMovie': 'Black Death'}, {'goldenEyeActorMovie': 'Cleanskin'}, {'goldenEyeActorMovie': 'Island, The'}, {'goldenEyeActorMovie': 'Silent Hill'}, {'goldenEyeActorMovie': 'Flightplan'}, {'goldenEyeActorMovie': 'Hitcher, The'}, {'goldenEyeActorMovie': 'National Treasure'}, {'goldenEyeActorMovie': 'Equilibrium'}, {'goldenEyeActorMovie': \"Don't Say a Word\"}, {'goldenEyeActorMovie': 'Patriot Games'}, {'goldenEyeActorMovie': 'Black Beauty'}, {'goldenEyeActorMovie': 'Reign of Fire'}]\n"
     ]
    }
   ],
   "source": [
    "# Fetch movies that have some actor in common with GoldenEye\n",
    "res = query_db(\"\"\"\n",
    "    MATCH (m:Movie)<-[:ACTED_IN]-(p:Person)-[:ACTED_IN]->(goldenEye:Movie {title: 'GoldenEye'})\n",
    "    RETURN m.title as goldenEyeActorMovie\n",
    "    \"\"\")\n",
    "print(res)"
   ]
  },
  {
   "cell_type": "code",
   "execution_count": null,
   "metadata": {},
   "outputs": [],
   "source": []
  }
 ],
 "metadata": {
  "kernelspec": {
   "display_name": "venv",
   "language": "python",
   "name": "python3"
  },
  "language_info": {
   "codemirror_mode": {
    "name": "ipython",
    "version": 3
   },
   "file_extension": ".py",
   "mimetype": "text/x-python",
   "name": "python",
   "nbconvert_exporter": "python",
   "pygments_lexer": "ipython3",
   "version": "3.12.2"
  }
 },
 "nbformat": 4,
 "nbformat_minor": 2
}

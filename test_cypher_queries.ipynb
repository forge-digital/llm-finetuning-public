{
 "cells": [
  {
   "cell_type": "code",
   "execution_count": 19,
   "metadata": {},
   "outputs": [],
   "source": [
    "from utils import create_movie_graph_db, query_db\n",
    "from neo4j import GraphDatabase\n",
    "import numpy as np"
   ]
  },
  {
   "cell_type": "markdown",
   "metadata": {},
   "source": [
    "### Generate a simple movie, actor, director graph database\n",
    "Before running this notebook, do the following:\n",
    "* Run `docker-compose up &` to deploy your local neo4j database.\n",
    "* Run `python create_movie_graph_db.py` to ingest data into the db."
   ]
  },
  {
   "cell_type": "markdown",
   "metadata": {},
   "source": [
    "### TODO\n",
    "Check the `create_movie_graph_db.py` script and discuss if you understand what is done there. Let's also test some creating some more nodes and relationships below."
   ]
  },
  {
   "cell_type": "code",
   "execution_count": 20,
   "metadata": {},
   "outputs": [
    {
     "name": "stdout",
     "output_type": "stream",
     "text": [
      "[{'p': {'name': 'Aappo Pulkkinen'}}]\n"
     ]
    }
   ],
   "source": [
    "res = query_db(\"\"\"\n",
    "    MATCH (m: Movie {title: \"GoldenEye\"})\n",
    "               \n",
    "    MERGE (p: Person {name: \"Aappo Pulkkinen\"})\n",
    "    MERGE (p)-[:VIEWED]->(m)\n",
    "    MERGE (p)-[:RATED {rating: 4}]->(m)\n",
    "    RETURN p\n",
    "\"\"\")\n",
    "print(res)"
   ]
  },
  {
   "cell_type": "markdown",
   "metadata": {},
   "source": [
    "### Generate some more (dummy) viewer data"
   ]
  },
  {
   "cell_type": "code",
   "execution_count": 21,
   "metadata": {},
   "outputs": [
    {
     "data": {
      "text/plain": [
       "0.7589742459342441"
      ]
     },
     "execution_count": 21,
     "metadata": {},
     "output_type": "execute_result"
    }
   ],
   "source": [
    "np.random.random()*10"
   ]
  },
  {
   "cell_type": "code",
   "execution_count": 22,
   "metadata": {},
   "outputs": [],
   "source": [
    "# get all movies\n",
    "res = query_db(\"\"\"\n",
    "    MATCH (m: Movie)\n",
    "    RETURN m.title as title\n",
    "\"\"\")\n",
    "\n",
    "# Create random viewer/raters\n",
    "nr_movies = len(res)\n",
    "raters = []\n",
    "for iter in range(0,3):\n",
    "    np.random.shuffle(res)\n",
    "    raters = raters + [{\"name\": f\"user_{i}\", \"rated\": res[i][\"title\"], \"rating\": np.random.random()*10} for i in range(0,nr_movies)]\n",
    "\n",
    "# Add raters to the database\n",
    "for rater in raters:\n",
    "    query_db(\"\"\"\n",
    "        MATCH (m: Movie {title: '$title'})\n",
    "                \n",
    "        MERGE (p: Person {name: '$name'})\n",
    "        MERGE (p)-[:VIEWED]->(m)\n",
    "        MERGE (p)-[:RATED {rating: $rating}]->(m)\n",
    "        RETURN p\n",
    "    \"\"\".replace(\"$title\", rater[\"rated\"]).replace(\"$rating\", str(rater[\"rating\"])).replace(\"$name\", rater[\"name\"]))"
   ]
  },
  {
   "cell_type": "markdown",
   "metadata": {},
   "source": [
    "### Test Cypher queries"
   ]
  },
  {
   "cell_type": "code",
   "execution_count": 23,
   "metadata": {},
   "outputs": [
    {
     "name": "stdout",
     "output_type": "stream",
     "text": [
      "[{'numberOfNodes': 6182}]\n"
     ]
    }
   ],
   "source": [
    "# Match all nodes\n",
    "res = query_db(\"\"\"\n",
    "  MATCH (n) \n",
    "  RETURN count(n) AS numberOfNodes\n",
    "  \"\"\")\n",
    "print(res)"
   ]
  },
  {
   "cell_type": "code",
   "execution_count": 24,
   "metadata": {},
   "outputs": [
    {
     "name": "stdout",
     "output_type": "stream",
     "text": [
      "[{'numberOfMovies': 1134}]\n"
     ]
    }
   ],
   "source": [
    "# Match only movie nodes\n",
    "res = query_db(\"\"\"\n",
    "  MATCH (m:Movie) \n",
    "  RETURN count(m) AS numberOfMovies\n",
    "  \"\"\")\n",
    "print(res)"
   ]
  },
  {
   "cell_type": "code",
   "execution_count": 25,
   "metadata": {},
   "outputs": [
    {
     "name": "stdout",
     "output_type": "stream",
     "text": [
      "[{'m': {'imdbRating': 6.6, 'id': '3', 'title': 'Grumpier Old Men', 'released': neo4j.time.Date(1995, 12, 22), 'info': 'This was Burgess Meredith\\'s last film. He died of complications of Alzheimer\\'s disease on September 9, 1997. He showed symptoms at the time of this movie\\'s filming, and had to be coached during each scene in which he appeared. Meredith\\'s acting talents are evident despite his failing mental faculties.,In the first movie Grandpa Gustafson says he\\'s 94 years old. In the second movie he says he just turned 95. So less than a year has passed but somehow Melanie\\'s daughter Allie aged 3 or 4 years.,Grandpa Gustafson: What the... what the hell is this?\\nJohn Gustafson: That\\'s lite beer.\\nGrandpa Gustafson: Gee, I weigh ninety goddamn pounds, and you bring me this sloppin\\' foam?\\nJohn Gustafson: Ariel\\'s got me on a diet because the doc said my cholestorol\\'s a little too high.\\nGrandpa Gustafson: Well let me tell you something now, Johnny. Last Thursday, I turned 95 years old. And I never exercised a day in my life. Every morning, I wake up, and I smoke a cigarette. And then I eat five strips of bacon. And for lunch, I eat a bacon sandwich. And for a midday snack?,Outtakes also show Walter Matthau and \\'Jack Lemmon\\' both forgetting their lines, including the names of their characters\\' respective love interests.,Featured in Siskel & Ebert: Dead Man Walking/Cutthroat Island/Sudden Death/Grumpier Old Men/Restoration/Waiting to Exhale (1995),(I\\'ll Be Glad When You\\'re Dead) You Rascal You\\nWritten by Spo-De-Odee\\nPerformed by Louis Armstrong and Louis Jordan\\nCourtesy of MCA Records,While \"Grumpy\" was enjoyable, I think \"Grumpier\" is the better overall movie. More attention is given to the supporting characters, the plot is slightly more complex, the lines are better, the jokes are better, and Lemmon and Matthau once again give excellent performances. Granted, this still isn\\'t as good as it could be, but I think it\\'s a noticeable step up from the original. I really don\\'t get all the negativity toward it... come on, people, it\\'s just a silly comedy. Lighten up.\\n\\nSpeaking of negativity, another reviewer, whom I won\\'t name here (oh all right, it\\'s John Ulmer), seems to think this movie is nothing more than a \"shouting match,\" and is concerned about the age difference between the Old Men and their lady friends. I disagree on both points. The dialogue doesn\\'t have as much shouting this time around, and Matthau\\'s girl is most certainly NOT \"fortysomething.\" Believe it or not, she was 61 at the time, and I must say it\\'s quite amazing how good she looks for a woman her age (Matthau was 75--a pretty big age difference, true, but I can\\'t imagine there\\'s a lot of men to choose from when you\\'re single and in your 60s!). I hate to chastise another reviewer like this, but I thought it was worth mentioning.\\n\\nSo in conclusion... it\\'s a good movie. Doesn\\'t deserve its bad rap.\\n\\n7/10 stars.,'}}]\n"
     ]
    }
   ],
   "source": [
    "# Fetch one movie node\n",
    "res = query_db(\"\"\"\n",
    "  MATCH (m: Movie)\n",
    "  RETURN m \n",
    "  LIMIT 1\n",
    "  \"\"\")\n",
    "print(res)"
   ]
  },
  {
   "cell_type": "code",
   "execution_count": 26,
   "metadata": {},
   "outputs": [
    {
     "name": "stdout",
     "output_type": "stream",
     "text": [
      "[{'numberOfRelationships': 15767}]\n"
     ]
    }
   ],
   "source": [
    "# Match all relationships\n",
    "res = query_db(\"\"\"\n",
    "  MATCH ()<-[r]-()\n",
    "  RETURN count(r) AS numberOfRelationships\n",
    "  \"\"\")\n",
    "print(res)"
   ]
  },
  {
   "cell_type": "code",
   "execution_count": 27,
   "metadata": {},
   "outputs": [
    {
     "name": "stdout",
     "output_type": "stream",
     "text": [
      "[{'relationshipType': 'DIRECTED'}, {'relationshipType': 'ACTED_IN'}, {'relationshipType': 'IN_GENRE'}, {'relationshipType': 'VIEWED'}, {'relationshipType': 'RATED'}]\n"
     ]
    }
   ],
   "source": [
    "# Get all relationship types\n",
    "res = query_db(\"\"\"\n",
    "  MATCH ()<-[r]-()\n",
    "  RETURN DISTINCT TYPE(r) as relationshipType\n",
    "  \"\"\")\n",
    "print(res)"
   ]
  },
  {
   "cell_type": "code",
   "execution_count": 28,
   "metadata": {},
   "outputs": [
    {
     "name": "stdout",
     "output_type": "stream",
     "text": [
      "[{'numberOfActedInRelationships': 4509}]\n"
     ]
    }
   ],
   "source": [
    "# Match only ACTED_IN relationships\n",
    "res = query_db(\"\"\"\n",
    "  MATCH ()<-[a:ACTED_IN]-()\n",
    "  RETURN count(a) AS numberOfActedInRelationships\n",
    "  \"\"\")\n",
    "print(res)"
   ]
  },
  {
   "cell_type": "code",
   "execution_count": 29,
   "metadata": {},
   "outputs": [
    {
     "name": "stdout",
     "output_type": "stream",
     "text": [
      "[{'brosnanMovie': 'After the Sunset'}, {'brosnanMovie': 'GoldenEye'}]\n"
     ]
    }
   ],
   "source": [
    "# Match only movies with Pierce Brosnan acting in them\n",
    "res = query_db(\"\"\"\n",
    "  MATCH (m)<-[a:ACTED_IN]-(p:Person {name: \"Pierce Brosnan\"})\n",
    "  RETURN m.title as brosnanMovie\n",
    "  \"\"\")\n",
    "print(res)"
   ]
  },
  {
   "cell_type": "code",
   "execution_count": 30,
   "metadata": {},
   "outputs": [
    {
     "name": "stdout",
     "output_type": "stream",
     "text": [
      "[{'brosnanMovieDirector': 'Brett Ratner'}, {'brosnanMovieDirector': 'Martin Campbell'}]\n"
     ]
    }
   ],
   "source": [
    "# Match only movies with Pierce Brosnan acting in them\n",
    "res = query_db(\"\"\"\n",
    "  MATCH (d:Person)-[:DIRECTED]->(m)<-[a:ACTED_IN]-(p:Person {name: \"Pierce Brosnan\"})\n",
    "  RETURN d.name as brosnanMovieDirector\n",
    "  \"\"\")\n",
    "print(res)"
   ]
  },
  {
   "cell_type": "code",
   "execution_count": 31,
   "metadata": {},
   "outputs": [
    {
     "name": "stdout",
     "output_type": "stream",
     "text": [
      "[{'goldenEyeActorMovie': 'Black Death'}, {'goldenEyeActorMovie': 'Black Beauty'}, {'goldenEyeActorMovie': 'Flightplan'}, {'goldenEyeActorMovie': 'City of Industry'}, {'goldenEyeActorMovie': 'After the Sunset'}]\n"
     ]
    }
   ],
   "source": [
    "# Fetch movies that have some actor in common with GoldenEye\n",
    "res = query_db(\"\"\"\n",
    "    MATCH (m:Movie)<-[:ACTED_IN]-(p:Person)-[:ACTED_IN]->(goldenEye:Movie {title: 'GoldenEye'})\n",
    "    RETURN m.title as goldenEyeActorMovie\n",
    "    \"\"\")\n",
    "print(res)"
   ]
  },
  {
   "cell_type": "markdown",
   "metadata": {},
   "source": [
    "### TODO\n",
    "\n",
    "* Create and run a query to fetch the actors in movie GoldenEye.\n",
    "* Create and run a query to fetch all the movies that have rating > 8.5.\n",
    "* Advanced: Create and run a query to fetch all the actors that have acted in movies that have rating > 8.5. Hint: You can \"chain\" MATCH statements"
   ]
  },
  {
   "cell_type": "code",
   "execution_count": 32,
   "metadata": {},
   "outputs": [
    {
     "name": "stdout",
     "output_type": "stream",
     "text": [
      "[{'goldenEyeActor': 'Izabella Scorupco'}, {'goldenEyeActor': 'Sean Bean'}, {'goldenEyeActor': 'Famke Janssen'}, {'goldenEyeActor': 'Pierce Brosnan'}]\n"
     ]
    }
   ],
   "source": [
    "res = query_db(\"\"\"\n",
    "    MATCH (p:Person)-[:ACTED_IN]->(goldenEye:Movie {title: 'GoldenEye'})\n",
    "    RETURN p.name as goldenEyeActor\n",
    "    \"\"\")\n",
    "print(res)"
   ]
  },
  {
   "cell_type": "code",
   "execution_count": 33,
   "metadata": {},
   "outputs": [
    {
     "name": "stdout",
     "output_type": "stream",
     "text": [
      "[{'title': 'Forrest Gump'}, {'title': 'Goodfellas'}, {'title': 'American History X'}, {'title': 'City Lights'}, {'title': 'Berlin Alexanderplatz'}]\n"
     ]
    }
   ],
   "source": [
    "res = query_db(\"\"\"\n",
    "    MATCH (m:Movie)\n",
    "    WHERE m.imdbRating > 8.5\n",
    "    RETURN m.title as title\n",
    "    \"\"\")\n",
    "print(res)"
   ]
  },
  {
   "cell_type": "code",
   "execution_count": 34,
   "metadata": {},
   "outputs": [
    {
     "name": "stdout",
     "output_type": "stream",
     "text": [
      "[{'actor': 'Tom Hanks', 'title': 'Forrest Gump'}, {'actor': 'Robin Wright', 'title': 'Forrest Gump'}, {'actor': 'Michael Conner Humphreys', 'title': 'Forrest Gump'}, {'actor': 'Sally Field', 'title': 'Forrest Gump'}, {'actor': 'Ray Liotta', 'title': 'Goodfellas'}, {'actor': 'Lorraine Bracco', 'title': 'Goodfellas'}, {'actor': 'Joe Pesci', 'title': 'Goodfellas'}, {'actor': 'Robert De Niro', 'title': 'Goodfellas'}, {'actor': 'Edward Norton', 'title': 'American History X'}, {'actor': 'Edward Furlong', 'title': 'American History X'}, {'actor': \"Beverly D'Angelo\", 'title': 'American History X'}, {'actor': 'Jennifer Lien', 'title': 'American History X'}, {'actor': 'Harry Myers', 'title': 'City Lights'}, {'actor': 'Al Ernest Garcia', 'title': 'City Lights'}, {'actor': 'Florence Lee', 'title': 'City Lights'}, {'actor': 'Virginia Cherrill', 'title': 'City Lights'}, {'actor': 'Günter Lamprecht', 'title': 'Berlin Alexanderplatz'}, {'actor': 'Claus Holm', 'title': 'Berlin Alexanderplatz'}, {'actor': 'Hanna Schygulla', 'title': 'Berlin Alexanderplatz'}, {'actor': 'Franz Buchrieser', 'title': 'Berlin Alexanderplatz'}]\n"
     ]
    }
   ],
   "source": [
    "res = query_db(\"\"\"\n",
    "    MATCH (m:Movie)\n",
    "    WHERE m.imdbRating > 8.5\n",
    "               \n",
    "    MATCH (p:Person)-[:ACTED_IN]->(m)\n",
    "    RETURN p.name as actor, m.title as title\n",
    "    \"\"\")\n",
    "print(res)"
   ]
  }
 ],
 "metadata": {
  "kernelspec": {
   "display_name": "venv",
   "language": "python",
   "name": "python3"
  },
  "language_info": {
   "codemirror_mode": {
    "name": "ipython",
    "version": 3
   },
   "file_extension": ".py",
   "mimetype": "text/x-python",
   "name": "python",
   "nbconvert_exporter": "python",
   "pygments_lexer": "ipython3",
   "version": "3.12.2"
  }
 },
 "nbformat": 4,
 "nbformat_minor": 2
}

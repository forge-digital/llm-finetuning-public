{
 "cells": [
  {
   "cell_type": "markdown",
   "id": "be94e6d6-4096-4d1a-aa58-5afd89f33bff",
   "metadata": {},
   "source": [
    "# Example about LLM tokenizers"
   ]
  },
  {
   "cell_type": "code",
   "execution_count": 1,
   "id": "4ef8ea85-d04d-4217-99a3-21c446bf2ffa",
   "metadata": {},
   "outputs": [
    {
     "name": "stdout",
     "output_type": "stream",
     "text": [
      "The history saving thread hit an unexpected error (OperationalError('attempt to write a readonly database')).History will not be written to the database.\n"
     ]
    }
   ],
   "source": [
    "from datasets import load_dataset, DatasetDict, Dataset\n",
    "\n",
    "from transformers import (\n",
    "    AutoTokenizer,\n",
    "    AutoConfig,\n",
    "    AutoModelForSequenceClassification,\n",
    "    DataCollatorWithPadding,\n",
    "    TrainingArguments,\n",
    "    Trainer)\n",
    "\n",
    "from peft import PeftModel, PeftConfig, get_peft_model, LoraConfig\n",
    "import evaluate\n",
    "import torch\n",
    "import numpy as np\n",
    "import pandas as pd"
   ]
  },
  {
   "cell_type": "markdown",
   "id": "10a0619e",
   "metadata": {},
   "source": [
    "### Tokenizers"
   ]
  },
  {
   "cell_type": "code",
   "execution_count": 2,
   "id": "4f488ba5",
   "metadata": {},
   "outputs": [],
   "source": [
    "def show_tokens(text:str, model_checkpoint: str):\n",
    "    tokenizer = AutoTokenizer.from_pretrained(model_checkpoint)\n",
    "                                              \n",
    "    token_ids = tokenizer.encode(text)\n",
    "    for t in token_ids:\n",
    "        print(t, end= ' ')\n",
    "        print(tokenizer.decode(t), end='\\n')"
   ]
  },
  {
   "cell_type": "code",
   "execution_count": 3,
   "id": "c040d693",
   "metadata": {},
   "outputs": [
    {
     "name": "stdout",
     "output_type": "stream",
     "text": [
      "Model: gpt2\n"
     ]
    },
    {
     "name": "stderr",
     "output_type": "stream",
     "text": [
      "/opt/miniconda3/envs/llm-finetuning-conda/lib/python3.12/site-packages/huggingface_hub/file_download.py:1132: FutureWarning: `resume_download` is deprecated and will be removed in version 1.0.0. Downloads always resume when possible. If you want to force a new download, use `force_download=True`.\n",
      "  warnings.warn(\n"
     ]
    },
    {
     "name": "stdout",
     "output_type": "stream",
     "text": [
      "15496 Hello\n",
      "11 ,\n",
      "428  this\n",
      "318  is\n",
      "43001  TEST\n",
      "6827  sentence\n",
      "0 !\n",
      "2 #\n",
      "220  \n",
      "9029  spaces\n",
      "25 :\n",
      "220  \n",
      "220  \n",
      "220  \n",
      "837 ,\n",
      "649  new\n",
      "62 _\n",
      "6615 lines\n",
      "25 :\n",
      "220  \n",
      "198 \n",
      "\n",
      "198 \n",
      "\n",
      "11 ,\n",
      "16022  equation\n",
      "25 :\n",
      "604  4\n",
      "13 .\n",
      "15 0\n",
      "9 *\n",
      "1795 80\n",
      "28 =\n",
      "19504 320\n",
      "13 .\n",
      "15 0\n",
      "Model: distilbert-base-uncased\n",
      "101 [CLS]\n",
      "7592 hello\n",
      "1010 ,\n",
      "2023 this\n",
      "2003 is\n",
      "3231 test\n",
      "6251 sentence\n",
      "999 !\n",
      "1001 #\n",
      "7258 spaces\n",
      "1024 :\n",
      "1010 ,\n",
      "2047 new\n",
      "1035 _\n",
      "3210 lines\n",
      "1024 :\n",
      "1010 ,\n",
      "8522 equation\n",
      "1024 :\n",
      "1018 4\n",
      "1012 .\n",
      "1014 0\n",
      "1008 *\n",
      "3770 80\n",
      "1027 =\n",
      "13710 320\n",
      "1012 .\n",
      "1014 0\n",
      "102 [SEP]\n",
      "Model: facebook/galactica-1.3b\n",
      "62 H\n",
      "13716 ello\n",
      "34 ,\n",
      "495  this\n",
      "343  is\n",
      "27068  TEST\n",
      "9553  sentence\n",
      "23 !\n",
      "25 #\n",
      "243  \n",
      "4682  spaces\n",
      "48 :\n",
      "344     \n",
      "34 ,\n",
      "1087  new\n",
      "85 _\n",
      "9918 lines\n",
      "48 :\n",
      "243  \n",
      "221 \n",
      "\n",
      "221 \n",
      "\n",
      "34 ,\n",
      "1803  equation\n",
      "48 :\n",
      "243  \n",
      "42 4\n",
      "36 .\n",
      "38 0\n",
      "32 *\n",
      "46 8\n",
      "38 0\n",
      "51 =\n",
      "41 3\n",
      "40 2\n",
      "38 0\n",
      "36 .\n",
      "38 0\n"
     ]
    }
   ],
   "source": [
    "for model_name in [\"gpt2\", \"distilbert-base-uncased\",\"facebook/galactica-1.3b\"]:\n",
    "    print(f\"Model: {model_name}\")\n",
    "    show_tokens('Hello, this is TEST sentence!#  spaces:    , new_lines: \\n\\n, equation: 4.0*80=320.0', model_checkpoint=model_name)"
   ]
  }
 ],
 "metadata": {
  "kernelspec": {
   "display_name": "Python 3 (ipykernel)",
   "language": "python",
   "name": "python3"
  },
  "language_info": {
   "codemirror_mode": {
    "name": "ipython",
    "version": 3
   },
   "file_extension": ".py",
   "mimetype": "text/x-python",
   "name": "python",
   "nbconvert_exporter": "python",
   "pygments_lexer": "ipython3",
   "version": "3.12.3"
  }
 },
 "nbformat": 4,
 "nbformat_minor": 5
}
